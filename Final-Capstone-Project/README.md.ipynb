{
 "cells": [
  {
   "cell_type": "markdown",
   "metadata": {},
   "source": [
    "### Final Capstone-Project\n",
    "\n",
    "#### IBM Professional Data Science Project\n",
    "\n",
    "- I live right across the river from NYC, in New Jersey to be precise. I am native to NYC as the next person living there, and have been part of the knowledge that the city itself has thousands of people leaving frustrated with many problems.\n",
    "\n",
    "#### 1 - Problem I Quesion:\n",
    "\n",
    "- The people of New Yorker use the 311 system to report complaints about the non-emergency problems to local authorities. The Department of Housing Preservation and Development of New York City is the agency that processes 311 complaints that are related to housing and buildings.\n",
    "\n",
    "- In the last few years, the number of 311 complaints coming to the Department of Housing Preservation and Development has increased significantly. Although these complaints are not necessarily urgent, the large volume of complaints and the sudden increase is impacting the overall efficiency of operations of the agency.\n",
    "\n",
    "- Therefore, the Department of Housing Preservation and Development has approached your organization to help them manage the large volume of 311 complaints they are receiving every year.\n",
    "\n",
    "The agency needs answers to several questions. The answers to those questions must be supported by data and analytics. These are their questions:\n",
    "\n",
    "#### Which type of complaint should the Department of Housing Preservation and Development of New York City focus on first?\n",
    "\n",
    "- Should the Department of Housing Preservation and Development of New York City focus on any particular set of boroughs, ZIP codes, or street (where the complaints are severe) for the specific type of complaints you identified in response to Question 1?\n",
    "\n",
    "- Does the Complaint Type that you identified in response to question 1 have an obvious relationship with any particular characteristic or characteristics of the houses or buildings?\n",
    "\n",
    "- Can a predictive model be built for a future prediction of the possibility of complaints of the type that you have identified in response to question 1?\n",
    "Your organization has assigned you as the lead data scientist to provide the answers to these questions. You need to work on getting answers to them in this Capstone Project by following the standard approach of data science and machine learning.\n",
    "\n",
    "\n",
    "These are part of orignal datasets. Original 311 dataset are way big for uploadng so unnessesary columns have been removed.\n",
    "\n",
    "#### 2 - The Data we will be using:\n",
    "\n",
    "- This dataset is available at https://data.cityofnewyork.us/Social-Services/311-Service-Requests-from-2010-to-Present/erm2-nwe9. You can download part of this data by using SODA API.\n",
    "\n",
    "Download only the data that is related to the Department of Housing Preservation and Development. Also, restrict your data to the limited number of fields. \n",
    "PLUTO dataset for housing\n",
    "\n",
    "This dataset for housing can be accessed from https://data.cityofnewyork.us/City-Government/Primary-Land-Use-Tax-Lot-Output-PLUTO-/xuk2-nczf. After you download the data, use only the part that is specific to the borough that you are interested in based on your analysis.\n",
    "\n",
    "- Also Foursquare API will be used possibly to determine the locations of the complaints, frequency and significance and possibly any relationship to any other variables."
   ]
  },
  {
   "cell_type": "code",
   "execution_count": null,
   "metadata": {},
   "outputs": [],
   "source": []
  }
 ],
 "metadata": {
  "kernelspec": {
   "display_name": "Python 3",
   "language": "python",
   "name": "python3"
  },
  "language_info": {
   "codemirror_mode": {
    "name": "ipython",
    "version": 3
   },
   "file_extension": ".py",
   "mimetype": "text/x-python",
   "name": "python",
   "nbconvert_exporter": "python",
   "pygments_lexer": "ipython3",
   "version": "3.7.6"
  }
 },
 "nbformat": 4,
 "nbformat_minor": 4
}
